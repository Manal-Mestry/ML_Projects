{
 "cells": [
  {
   "cell_type": "code",
   "execution_count": 1,
   "id": "b3c37c66",
   "metadata": {},
   "outputs": [],
   "source": [
    "import pandas as pd\n",
    "import numpy as np\n",
    "import seaborn as sns\n",
    "import matplotlib.pyplot as plt\n",
    "from sklearn.cluster import KMeans\n",
    "from sklearn.preprocessing import StandardScaler\n",
    "import warnings\n",
    "warnings.filterwarnings(\"ignore\")"
   ]
  },
  {
   "cell_type": "code",
   "execution_count": 3,
   "id": "0f8301a3",
   "metadata": {},
   "outputs": [],
   "source": [
    "acc = pd.read_csv('accidents.csv')"
   ]
  },
  {
   "cell_type": "code",
   "execution_count": 4,
   "id": "bbeb76e4",
   "metadata": {},
   "outputs": [
    {
     "data": {
      "text/html": [
       "<div>\n",
       "<style scoped>\n",
       "    .dataframe tbody tr th:only-of-type {\n",
       "        vertical-align: middle;\n",
       "    }\n",
       "\n",
       "    .dataframe tbody tr th {\n",
       "        vertical-align: top;\n",
       "    }\n",
       "\n",
       "    .dataframe thead th {\n",
       "        text-align: right;\n",
       "    }\n",
       "</style>\n",
       "<table border=\"1\" class=\"dataframe\">\n",
       "  <thead>\n",
       "    <tr style=\"text-align: right;\">\n",
       "      <th></th>\n",
       "      <th>Severity</th>\n",
       "      <th>StartTime</th>\n",
       "      <th>EndTime</th>\n",
       "      <th>StartLat</th>\n",
       "      <th>StartLng</th>\n",
       "      <th>Distance</th>\n",
       "      <th>Street</th>\n",
       "      <th>City</th>\n",
       "      <th>State</th>\n",
       "      <th>Zipcode</th>\n",
       "      <th>...</th>\n",
       "      <th>Crossing</th>\n",
       "      <th>GiveWay</th>\n",
       "      <th>Junction</th>\n",
       "      <th>NoExit</th>\n",
       "      <th>Railway</th>\n",
       "      <th>Roundabout</th>\n",
       "      <th>Station</th>\n",
       "      <th>Stop</th>\n",
       "      <th>TrafficCalming</th>\n",
       "      <th>TrafficSignal</th>\n",
       "    </tr>\n",
       "  </thead>\n",
       "  <tbody>\n",
       "    <tr>\n",
       "      <th>0</th>\n",
       "      <td>2</td>\n",
       "      <td>2019-07-22 14:43:06</td>\n",
       "      <td>2019-07-22 16:22:19</td>\n",
       "      <td>34.789009</td>\n",
       "      <td>-82.483383</td>\n",
       "      <td>0.000</td>\n",
       "      <td>Highway 153</td>\n",
       "      <td>Greenville</td>\n",
       "      <td>SC</td>\n",
       "      <td>29611</td>\n",
       "      <td>...</td>\n",
       "      <td>False</td>\n",
       "      <td>False</td>\n",
       "      <td>False</td>\n",
       "      <td>False</td>\n",
       "      <td>False</td>\n",
       "      <td>False</td>\n",
       "      <td>False</td>\n",
       "      <td>False</td>\n",
       "      <td>False</td>\n",
       "      <td>False</td>\n",
       "    </tr>\n",
       "    <tr>\n",
       "      <th>1</th>\n",
       "      <td>2</td>\n",
       "      <td>2019-03-20 16:12:14</td>\n",
       "      <td>2019-03-20 16:41:05</td>\n",
       "      <td>40.998264</td>\n",
       "      <td>-76.650396</td>\n",
       "      <td>0.472</td>\n",
       "      <td>Continental Blvd</td>\n",
       "      <td>Danville</td>\n",
       "      <td>PA</td>\n",
       "      <td>17821</td>\n",
       "      <td>...</td>\n",
       "      <td>False</td>\n",
       "      <td>False</td>\n",
       "      <td>False</td>\n",
       "      <td>False</td>\n",
       "      <td>False</td>\n",
       "      <td>False</td>\n",
       "      <td>False</td>\n",
       "      <td>False</td>\n",
       "      <td>False</td>\n",
       "      <td>False</td>\n",
       "    </tr>\n",
       "    <tr>\n",
       "      <th>2</th>\n",
       "      <td>3</td>\n",
       "      <td>2018-12-12 14:19:18</td>\n",
       "      <td>2018-12-12 14:48:56</td>\n",
       "      <td>33.461292</td>\n",
       "      <td>-112.082001</td>\n",
       "      <td>0.000</td>\n",
       "      <td>I-10 W</td>\n",
       "      <td>Phoenix</td>\n",
       "      <td>AZ</td>\n",
       "      <td>85003</td>\n",
       "      <td>...</td>\n",
       "      <td>False</td>\n",
       "      <td>False</td>\n",
       "      <td>False</td>\n",
       "      <td>False</td>\n",
       "      <td>False</td>\n",
       "      <td>False</td>\n",
       "      <td>False</td>\n",
       "      <td>False</td>\n",
       "      <td>False</td>\n",
       "      <td>False</td>\n",
       "    </tr>\n",
       "    <tr>\n",
       "      <th>3</th>\n",
       "      <td>2</td>\n",
       "      <td>2018-03-09 08:02:11</td>\n",
       "      <td>2018-03-09 08:49:15</td>\n",
       "      <td>42.288445</td>\n",
       "      <td>-87.924911</td>\n",
       "      <td>0.000</td>\n",
       "      <td>Oak Spring Rd</td>\n",
       "      <td>Libertyville</td>\n",
       "      <td>IL</td>\n",
       "      <td>60048</td>\n",
       "      <td>...</td>\n",
       "      <td>False</td>\n",
       "      <td>False</td>\n",
       "      <td>False</td>\n",
       "      <td>False</td>\n",
       "      <td>False</td>\n",
       "      <td>False</td>\n",
       "      <td>False</td>\n",
       "      <td>False</td>\n",
       "      <td>False</td>\n",
       "      <td>False</td>\n",
       "    </tr>\n",
       "    <tr>\n",
       "      <th>4</th>\n",
       "      <td>2</td>\n",
       "      <td>2020-03-27 05:36:56</td>\n",
       "      <td>2020-03-27 06:36:48</td>\n",
       "      <td>36.229259</td>\n",
       "      <td>-86.594650</td>\n",
       "      <td>0.000</td>\n",
       "      <td>Saundersville Rd</td>\n",
       "      <td>Old Hickory</td>\n",
       "      <td>TN</td>\n",
       "      <td>37138</td>\n",
       "      <td>...</td>\n",
       "      <td>False</td>\n",
       "      <td>False</td>\n",
       "      <td>False</td>\n",
       "      <td>False</td>\n",
       "      <td>False</td>\n",
       "      <td>False</td>\n",
       "      <td>False</td>\n",
       "      <td>False</td>\n",
       "      <td>False</td>\n",
       "      <td>False</td>\n",
       "    </tr>\n",
       "  </tbody>\n",
       "</table>\n",
       "<p>5 rows × 29 columns</p>\n",
       "</div>"
      ],
      "text/plain": [
       "   Severity            StartTime              EndTime   StartLat    StartLng  \\\n",
       "0         2  2019-07-22 14:43:06  2019-07-22 16:22:19  34.789009  -82.483383   \n",
       "1         2  2019-03-20 16:12:14  2019-03-20 16:41:05  40.998264  -76.650396   \n",
       "2         3  2018-12-12 14:19:18  2018-12-12 14:48:56  33.461292 -112.082001   \n",
       "3         2  2018-03-09 08:02:11  2018-03-09 08:49:15  42.288445  -87.924911   \n",
       "4         2  2020-03-27 05:36:56  2020-03-27 06:36:48  36.229259  -86.594650   \n",
       "\n",
       "   Distance             Street          City State  Zipcode  ...  Crossing  \\\n",
       "0     0.000        Highway 153    Greenville    SC    29611  ...     False   \n",
       "1     0.472   Continental Blvd      Danville    PA    17821  ...     False   \n",
       "2     0.000             I-10 W       Phoenix    AZ    85003  ...     False   \n",
       "3     0.000      Oak Spring Rd  Libertyville    IL    60048  ...     False   \n",
       "4     0.000   Saundersville Rd   Old Hickory    TN    37138  ...     False   \n",
       "\n",
       "   GiveWay  Junction  NoExit  Railway  Roundabout Station   Stop  \\\n",
       "0    False     False   False    False       False   False  False   \n",
       "1    False     False   False    False       False   False  False   \n",
       "2    False     False   False    False       False   False  False   \n",
       "3    False     False   False    False       False   False  False   \n",
       "4    False     False   False    False       False   False  False   \n",
       "\n",
       "   TrafficCalming  TrafficSignal  \n",
       "0           False          False  \n",
       "1           False          False  \n",
       "2           False          False  \n",
       "3           False          False  \n",
       "4           False          False  \n",
       "\n",
       "[5 rows x 29 columns]"
      ]
     },
     "execution_count": 4,
     "metadata": {},
     "output_type": "execute_result"
    }
   ],
   "source": [
    "acc.head()"
   ]
  },
  {
   "cell_type": "code",
   "execution_count": 5,
   "id": "5d0b2092",
   "metadata": {},
   "outputs": [
    {
     "name": "stdout",
     "output_type": "stream",
     "text": [
      "<class 'pandas.core.frame.DataFrame'>\n",
      "RangeIndex: 100000 entries, 0 to 99999\n",
      "Data columns (total 29 columns):\n",
      " #   Column            Non-Null Count   Dtype  \n",
      "---  ------            --------------   -----  \n",
      " 0   Severity          100000 non-null  int64  \n",
      " 1   StartTime         100000 non-null  object \n",
      " 2   EndTime           100000 non-null  object \n",
      " 3   StartLat          100000 non-null  float64\n",
      " 4   StartLng          100000 non-null  float64\n",
      " 5   Distance          100000 non-null  float64\n",
      " 6   Street            100000 non-null  object \n",
      " 7   City              100000 non-null  object \n",
      " 8   State             100000 non-null  object \n",
      " 9   Zipcode           100000 non-null  int64  \n",
      " 10  Temperature       100000 non-null  float64\n",
      " 11  Humidity          100000 non-null  float64\n",
      " 12  Pressure          100000 non-null  float64\n",
      " 13  Visibility        100000 non-null  float64\n",
      " 14  WindSpeed         100000 non-null  float64\n",
      " 15  Precipitation     100000 non-null  float64\n",
      " 16  WeatherCondition  100000 non-null  object \n",
      " 17  Amenity           100000 non-null  bool   \n",
      " 18  Bump              100000 non-null  bool   \n",
      " 19  Crossing          100000 non-null  bool   \n",
      " 20  GiveWay           100000 non-null  bool   \n",
      " 21  Junction          100000 non-null  bool   \n",
      " 22  NoExit            100000 non-null  bool   \n",
      " 23  Railway           100000 non-null  bool   \n",
      " 24  Roundabout        100000 non-null  bool   \n",
      " 25  Station           100000 non-null  bool   \n",
      " 26  Stop              100000 non-null  bool   \n",
      " 27  TrafficCalming    100000 non-null  bool   \n",
      " 28  TrafficSignal     100000 non-null  bool   \n",
      "dtypes: bool(12), float64(9), int64(2), object(6)\n",
      "memory usage: 14.1+ MB\n"
     ]
    }
   ],
   "source": [
    "acc.info()"
   ]
  },
  {
   "cell_type": "code",
   "execution_count": 7,
   "id": "611ef1ba",
   "metadata": {},
   "outputs": [
    {
     "data": {
      "text/plain": [
       "Severity            0\n",
       "StartTime           0\n",
       "EndTime             0\n",
       "StartLat            0\n",
       "StartLng            0\n",
       "Distance            0\n",
       "Street              0\n",
       "City                0\n",
       "State               0\n",
       "Zipcode             0\n",
       "Temperature         0\n",
       "Humidity            0\n",
       "Pressure            0\n",
       "Visibility          0\n",
       "WindSpeed           0\n",
       "Precipitation       0\n",
       "WeatherCondition    0\n",
       "Amenity             0\n",
       "Bump                0\n",
       "Crossing            0\n",
       "GiveWay             0\n",
       "Junction            0\n",
       "NoExit              0\n",
       "Railway             0\n",
       "Roundabout          0\n",
       "Station             0\n",
       "Stop                0\n",
       "TrafficCalming      0\n",
       "TrafficSignal       0\n",
       "dtype: int64"
      ]
     },
     "execution_count": 7,
     "metadata": {},
     "output_type": "execute_result"
    }
   ],
   "source": [
    "acc.isnull().sum()"
   ]
  },
  {
   "cell_type": "code",
   "execution_count": 9,
   "id": "d3edd4ae",
   "metadata": {},
   "outputs": [],
   "source": [
    "taken_feau =  acc[['Temperature', 'Pressure', 'Visibility', 'WindSpeed']]"
   ]
  },
  {
   "cell_type": "code",
   "execution_count": 10,
   "id": "0e29fe78",
   "metadata": {},
   "outputs": [
    {
     "data": {
      "text/html": [
       "<div>\n",
       "<style scoped>\n",
       "    .dataframe tbody tr th:only-of-type {\n",
       "        vertical-align: middle;\n",
       "    }\n",
       "\n",
       "    .dataframe tbody tr th {\n",
       "        vertical-align: top;\n",
       "    }\n",
       "\n",
       "    .dataframe thead th {\n",
       "        text-align: right;\n",
       "    }\n",
       "</style>\n",
       "<table border=\"1\" class=\"dataframe\">\n",
       "  <thead>\n",
       "    <tr style=\"text-align: right;\">\n",
       "      <th></th>\n",
       "      <th>Temperature</th>\n",
       "      <th>Pressure</th>\n",
       "      <th>Visibility</th>\n",
       "      <th>WindSpeed</th>\n",
       "    </tr>\n",
       "  </thead>\n",
       "  <tbody>\n",
       "    <tr>\n",
       "      <th>0</th>\n",
       "      <td>93.0</td>\n",
       "      <td>28.86</td>\n",
       "      <td>10.0</td>\n",
       "      <td>16.0</td>\n",
       "    </tr>\n",
       "    <tr>\n",
       "      <th>1</th>\n",
       "      <td>51.1</td>\n",
       "      <td>30.23</td>\n",
       "      <td>10.0</td>\n",
       "      <td>9.2</td>\n",
       "    </tr>\n",
       "    <tr>\n",
       "      <th>2</th>\n",
       "      <td>64.9</td>\n",
       "      <td>29.99</td>\n",
       "      <td>10.0</td>\n",
       "      <td>8.1</td>\n",
       "    </tr>\n",
       "    <tr>\n",
       "      <th>3</th>\n",
       "      <td>27.0</td>\n",
       "      <td>30.04</td>\n",
       "      <td>10.0</td>\n",
       "      <td>5.8</td>\n",
       "    </tr>\n",
       "    <tr>\n",
       "      <th>4</th>\n",
       "      <td>68.0</td>\n",
       "      <td>29.20</td>\n",
       "      <td>10.0</td>\n",
       "      <td>7.0</td>\n",
       "    </tr>\n",
       "  </tbody>\n",
       "</table>\n",
       "</div>"
      ],
      "text/plain": [
       "   Temperature  Pressure  Visibility  WindSpeed\n",
       "0         93.0     28.86        10.0       16.0\n",
       "1         51.1     30.23        10.0        9.2\n",
       "2         64.9     29.99        10.0        8.1\n",
       "3         27.0     30.04        10.0        5.8\n",
       "4         68.0     29.20        10.0        7.0"
      ]
     },
     "execution_count": 10,
     "metadata": {},
     "output_type": "execute_result"
    }
   ],
   "source": [
    "taken_feau.head()"
   ]
  },
  {
   "cell_type": "markdown",
   "id": "95eaf64d",
   "metadata": {},
   "source": [
    "## Apply K-means for various K-values"
   ]
  },
  {
   "cell_type": "markdown",
   "id": "f96dd435",
   "metadata": {},
   "source": [
    "### Inertia (Within clusters sum of squares)"
   ]
  },
  {
   "cell_type": "code",
   "execution_count": 39,
   "id": "2ae896f1",
   "metadata": {},
   "outputs": [],
   "source": [
    "inertia_values = []\n",
    "sillhouette_scores = []\n",
    "k_range = range(2,11)\n",
    "\n",
    "for k in k_range:\n",
    "    kmeans = KMeans(n_clusters = k, random_state = 42)\n",
    "    kmeans.fit(taken_feau)\n",
    "    inertia_values.append(kmeans.inertia_)"
   ]
  },
  {
   "cell_type": "code",
   "execution_count": 40,
   "id": "b617d98f",
   "metadata": {},
   "outputs": [
    {
     "data": {
      "image/png": "[encoded data removed]",
      "text/plain": [
       "<Figure size 1000x600 with 1 Axes>"
      ]
     },
     "metadata": {},
     "output_type": "display_data"
    }
   ],
   "source": [
    "plt.figure(figsize=(10,6))\n",
    "plt.plot(range(2, 11), inertia_values, marker='o', linestyle='--')\n",
    "plt.xlabel('Number of Clusters (K)')\n",
    "plt.ylabel('Within cluster sum of squares')\n",
    "plt.title('Elbow method to find optimanl K')\n",
    "plt.show()"
   ]
  },
  {
   "cell_type": "markdown",
   "id": "51fc0787",
   "metadata": {},
   "source": [
    "### Silhouette Score"
   ]
  },
  {
   "cell_type": "code",
   "execution_count": 45,
   "id": "320014d6",
   "metadata": {},
   "outputs": [],
   "source": [
    "# silhouette = silhouette_score(taken_feau, kmeans.labels_)\n",
    "# silhouette_scores.append(silhouette)"
   ]
  },
  {
   "cell_type": "markdown",
   "id": "8f68f62c",
   "metadata": {},
   "source": [
    "### Inertia (within-cluster sum of squares)"
   ]
  },
  {
   "cell_type": "code",
   "execution_count": 44,
   "id": "c0d1e9c9",
   "metadata": {},
   "outputs": [],
   "source": [
    "inertia_values.append(kmeans.inertia_)"
   ]
  },
  {
   "cell_type": "markdown",
   "id": "31e60cf2",
   "metadata": {},
   "source": [
    "## Elbow Method"
   ]
  },
  {
   "cell_type": "code",
   "execution_count": 19,
   "id": "8bb40e7f",
   "metadata": {},
   "outputs": [],
   "source": [
    "kmeans = KMeans(n_clusters=3, random_state=42)\n",
    "bank['Cluster'] = kmeans.fit_predict(taken_feau)"
   ]
  },
  {
   "cell_type": "code",
   "execution_count": 28,
   "id": "e8b02848",
   "metadata": {},
   "outputs": [
    {
     "data": {
      "image/png": "[encoded data removed]",
      "text/plain": [
       "<Figure size 1300x600 with 1 Axes>"
      ]
     },
     "metadata": {},
     "output_type": "display_data"
    }
   ],
   "source": [
    "plt.figure(figsize=(13, 6))\n",
    "plt.subplot(1, 2, 1)\n",
    "plt.plot(k_range, inertia_values, marker='o', linestyle='-')\n",
    "plt.xlabel('Number of Clusters (K)')\n",
    "plt.ylabel('Inertia (WCCS)')\n",
    "plt.title('Elbow Method')\n",
    "plt.show()"
   ]
  },
  {
   "cell_type": "markdown",
   "id": "998a5971",
   "metadata": {},
   "source": [
    "## Silhouette Score"
   ]
  },
  {
   "cell_type": "code",
   "execution_count": null,
   "id": "248ea32b",
   "metadata": {},
   "outputs": [],
   "source": []
  },
  {
   "cell_type": "code",
   "execution_count": null,
   "id": "bf4dd5e6",
   "metadata": {},
   "outputs": [],
   "source": []
  },
  {
   "cell_type": "code",
   "execution_count": null,
   "id": "ddd8d3a4",
   "metadata": {},
   "outputs": [],
   "source": []
  },
  {
   "cell_type": "code",
   "execution_count": null,
   "id": "02b95583",
   "metadata": {},
   "outputs": [],
   "source": []
  },
  {
   "cell_type": "code",
   "execution_count": null,
   "id": "0ec921ff",
   "metadata": {},
   "outputs": [],
   "source": []
  },
  {
   "cell_type": "code",
   "execution_count": null,
   "id": "64fdc58b",
   "metadata": {},
   "outputs": [],
   "source": []
  },
  {
   "cell_type": "code",
   "execution_count": null,
   "id": "12f21b01",
   "metadata": {},
   "outputs": [],
   "source": []
  },
  {
   "cell_type": "code",
   "execution_count": null,
   "id": "fa674189",
   "metadata": {},
   "outputs": [],
   "source": []
  },
  {
   "cell_type": "code",
   "execution_count": null,
   "id": "42ae9f56",
   "metadata": {},
   "outputs": [],
   "source": []
  },
  {
   "cell_type": "code",
   "execution_count": null,
   "id": "ebdab064",
   "metadata": {},
   "outputs": [],
   "source": []
  },
  {
   "cell_type": "code",
   "execution_count": null,
   "id": "4db58b01",
   "metadata": {},
   "outputs": [],
   "source": []
  },
  {
   "cell_type": "code",
   "execution_count": null,
   "id": "fd62fe97",
   "metadata": {},
   "outputs": [],
   "source": []
  },
  {
   "cell_type": "code",
   "execution_count": null,
   "id": "e7b45349",
   "metadata": {},
   "outputs": [],
   "source": []
  },
  {
   "cell_type": "code",
   "execution_count": null,
   "id": "294c2456",
   "metadata": {},
   "outputs": [],
   "source": []
  }
 ],
 "metadata": {
  "kernelspec": {
   "display_name": "Python 3 (ipykernel)",
   "language": "python",
   "name": "python3"
  },
  "language_info": {
   "codemirror_mode": {
    "name": "ipython",
    "version": 3
   },
   "file_extension": ".py",
   "mimetype": "text/x-python",
   "name": "python",
   "nbconvert_exporter": "python",
   "pygments_lexer": "ipython3",
   "version": "3.11.2"
  }
 },
 "nbformat": 4,
 "nbformat_minor": 5
}
